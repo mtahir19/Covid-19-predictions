{
 "cells": [
  {
   "cell_type": "markdown",
   "metadata": {},
   "source": [
    "# Project 5: Machine Learning Modelling to Predict Deaths Associated with COVID-19"
   ]
  },
  {
   "cell_type": "markdown",
   "metadata": {},
   "source": [
    "## Seung Woo Choi, Eric Rodriguez and Muhammad Tahir; Data Science Immersive @ General Assembly - March 2021"
   ]
  },
  {
   "cell_type": "markdown",
   "metadata": {},
   "source": [
    "## Part 1: Imports and Reading Data"
   ]
  },
  {
   "cell_type": "code",
   "execution_count": 1,
   "metadata": {},
   "outputs": [],
   "source": [
    "import pandas as pd\n",
    "import numpy as np\n",
    "import seaborn as sns\n",
    "import missingno as msno\n",
    "import matplotlib.pyplot as plt\n",
    "\n",
    "from sklearn.linear_model import LinearRegression, Ridge, Lasso\n",
    "from sklearn.model_selection import train_test_split, cross_val_score, GridSearchCV\n",
    "from sklearn.preprocessing import StandardScaler\n",
    "from sklearn.decomposition import PCA\n",
    "from sklearn import metrics\n",
    "\n",
    "import os\n",
    "import glob\n",
    "\n",
    "%matplotlib inline"
   ]
  },
  {
   "cell_type": "code",
   "execution_count": 2,
   "metadata": {},
   "outputs": [],
   "source": [
    "# # code previously used to combine all CSV files h/t freecodecamp.org\n",
    "# extension = 'csv'\n",
    "# all_filenames = [i for i in glob.glob('*.{}'.format(extension))]\n",
    "# #combine all files in the list\n",
    "# combined_csv = pd.concat([pd.read_csv(f) for f in all_filenames ])\n",
    "# #export to csv\n",
    "# combined_csv.to_csv( \"combined_csv.csv\", index=False, encoding='utf-8-sig')"
   ]
  },
  {
   "cell_type": "code",
   "execution_count": 3,
   "metadata": {},
   "outputs": [],
   "source": [
    "# importing combined CSV with all covid-19 data\n",
    "df_all = pd.read_csv('../datasets/csse_covid_19_daily_reports_us/combined_csv.csv',\n",
    "                 na_values=[''], keep_default_na=False)"
   ]
  },
  {
   "cell_type": "code",
   "execution_count": 4,
   "metadata": {},
   "outputs": [
    {
     "data": {
      "text/plain": [
       "(19564, 20)"
      ]
     },
     "execution_count": 4,
     "metadata": {},
     "output_type": "execute_result"
    }
   ],
   "source": [
    "df_all.shape"
   ]
  },
  {
   "cell_type": "code",
   "execution_count": 5,
   "metadata": {},
   "outputs": [],
   "source": [
    "# creating data frame that contains only texas data\n",
    "df_all_texas = df_all.loc[df_all['Province_State']=='Texas']"
   ]
  },
  {
   "cell_type": "code",
   "execution_count": 6,
   "metadata": {},
   "outputs": [],
   "source": [
    "# creating data frame that contains only texas data in 2020\n",
    "df_all_texas_2020 = df_all_texas[df_all_texas.Last_Update.str.contains(\"2020\")]"
   ]
  },
  {
   "cell_type": "code",
   "execution_count": 7,
   "metadata": {},
   "outputs": [],
   "source": [
    "# creating individual data frames for months july-december in 2020 \n",
    "df1 = df_all_texas_2020[df_all_texas_2020.Last_Update.str.startswith('2020-07')]\n",
    "df2 = df_all_texas_2020[df_all_texas_2020.Last_Update.str.startswith('2020-08')]\n",
    "df3 = df_all_texas_2020[df_all_texas_2020.Last_Update.str.startswith('2020-09')]\n",
    "df4 = df_all_texas_2020[df_all_texas_2020.Last_Update.str.startswith('2020-10')]\n",
    "df5 = df_all_texas_2020[df_all_texas_2020.Last_Update.str.startswith('2020-11')]\n",
    "df6 = df_all_texas_2020[df_all_texas_2020.Last_Update.str.startswith('2020-12')]"
   ]
  },
  {
   "cell_type": "code",
   "execution_count": 8,
   "metadata": {},
   "outputs": [],
   "source": [
    "frames = [df1, df2, df3, df4, df5, df6]"
   ]
  },
  {
   "cell_type": "code",
   "execution_count": 9,
   "metadata": {},
   "outputs": [],
   "source": [
    "# concatenating texas data frames july-december 2020 into one data frame\n",
    "df_texas = pd.concat(frames)"
   ]
  },
  {
   "cell_type": "code",
   "execution_count": 10,
   "metadata": {},
   "outputs": [
    {
     "data": {
      "text/plain": [
       "(184, 20)"
      ]
     },
     "execution_count": 10,
     "metadata": {},
     "output_type": "execute_result"
    }
   ],
   "source": [
    "# shape makes sense, 4months of 31 days + 2months of 30 days = 184\n",
    "df_texas.shape"
   ]
  },
  {
   "cell_type": "code",
   "execution_count": 11,
   "metadata": {},
   "outputs": [],
   "source": [
    "# double checking to make sure the df_texas contains data from july-december\n",
    "# df_texas['Last_Update'].unique()"
   ]
  },
  {
   "cell_type": "markdown",
   "metadata": {},
   "source": [
    "## Part 2: Exploratory Data Analysis"
   ]
  },
  {
   "cell_type": "code",
   "execution_count": 12,
   "metadata": {},
   "outputs": [],
   "source": [
    "# Rename column names\n",
    "df_texas.columns = [column.lower() for column in df_texas.columns]"
   ]
  },
  {
   "cell_type": "code",
   "execution_count": 13,
   "metadata": {},
   "outputs": [
    {
     "data": {
      "text/plain": [
       "province_state            0\n",
       "country_region            0\n",
       "last_update               0\n",
       "lat                       0\n",
       "long_                     0\n",
       "confirmed                 0\n",
       "deaths                    0\n",
       "recovered                 0\n",
       "active                    0\n",
       "fips                      0\n",
       "incident_rate             0\n",
       "people_tested            52\n",
       "people_hospitalized     184\n",
       "mortality_rate           52\n",
       "uid                       0\n",
       "iso3                      0\n",
       "testing_rate              0\n",
       "hospitalization_rate    184\n",
       "total_test_results      132\n",
       "case_fatality_ratio     132\n",
       "dtype: int64"
      ]
     },
     "execution_count": 13,
     "metadata": {},
     "output_type": "execute_result"
    }
   ],
   "source": [
    "# Check missing values\n",
    "df_texas.isnull().sum()"
   ]
  },
  {
   "cell_type": "code",
   "execution_count": 14,
   "metadata": {},
   "outputs": [
    {
     "data": {
      "image/png": "[encoded data removed]",
      "text/plain": [
       "<Figure size 1800x720 with 2 Axes>"
      ]
     },
     "metadata": {
      "needs_background": "light"
     },
     "output_type": "display_data"
    }
   ],
   "source": [
    "# Examine missing data\n",
    "msno.matrix(df_texas);"
   ]
  },
  {
   "cell_type": "code",
   "execution_count": 15,
   "metadata": {},
   "outputs": [
    {
     "data": {
      "text/plain": [
       "(184, 18)"
      ]
     },
     "execution_count": 15,
     "metadata": {},
     "output_type": "execute_result"
    }
   ],
   "source": [
    "# Drop 2 columns with 100% missing values: people_hospitalized and hospitalization_rate\n",
    "df_texas = df_texas.drop(columns=['people_hospitalized', 'hospitalization_rate'])\n",
    "df_texas.shape"
   ]
  },
  {
   "cell_type": "code",
   "execution_count": 16,
   "metadata": {},
   "outputs": [],
   "source": [
    "# Drop column: 'country_region', 'lat', 'long_', 'last_update', 'iso3'\n",
    "df_texas = df_texas.drop(columns=['country_region', 'lat', 'long_', 'last_update', 'iso3'])"
   ]
  },
  {
   "cell_type": "code",
   "execution_count": 17,
   "metadata": {},
   "outputs": [
    {
     "data": {
      "text/plain": [
       "Index(['province_state', 'confirmed', 'deaths', 'recovered', 'active', 'fips',\n",
       "       'incident_rate', 'people_tested', 'mortality_rate', 'uid',\n",
       "       'testing_rate', 'total_test_results', 'case_fatality_ratio'],\n",
       "      dtype='object')"
      ]
     },
     "execution_count": 17,
     "metadata": {},
     "output_type": "execute_result"
    }
   ],
   "source": [
    "df_texas.columns"
   ]
  },
  {
   "cell_type": "markdown",
   "metadata": {},
   "source": [
    "#### Correlation matrix"
   ]
  },
  {
   "cell_type": "code",
   "execution_count": 18,
   "metadata": {},
   "outputs": [
    {
     "data": {
      "text/plain": [
       "<AxesSubplot:>"
      ]
     },
     "execution_count": 18,
     "metadata": {},
     "output_type": "execute_result"
    },
    {
     "data": {
      "image/png": "[encoded data removed]",
      "text/plain": [
       "<Figure size 720x576 with 2 Axes>"
      ]
     },
     "metadata": {
      "needs_background": "light"
     },
     "output_type": "display_data"
    }
   ],
   "source": [
    "# heatmap to visualize correlation\n",
    "plt.figure(figsize=(10,8))\n",
    "sns.heatmap(df_texas.drop(columns=['fips', 'uid', 'people_tested', 'mortality_rate']).corr(), annot=True)"
   ]
  },
  {
   "cell_type": "markdown",
   "metadata": {},
   "source": [
    "Several features appear to be strongly correlated with deaths, especially 'recovered'.\n",
    "\n",
    "Case_fatality ratio is very negatively coorelated with all features"
   ]
  },
  {
   "cell_type": "markdown",
   "metadata": {},
   "source": [
    "#### Scatterplots"
   ]
  },
  {
   "cell_type": "code",
   "execution_count": 19,
   "metadata": {},
   "outputs": [
    {
     "data": {
      "image/png": "[encoded data removed]",
      "text/plain": [
       "<Figure size 432x288 with 1 Axes>"
      ]
     },
     "metadata": {
      "needs_background": "light"
     },
     "output_type": "display_data"
    },
    {
     "data": {
      "image/png": "[encoded data removed]",
      "text/plain": [
       "<Figure size 432x288 with 1 Axes>"
      ]
     },
     "metadata": {
      "needs_background": "light"
     },
     "output_type": "display_data"
    },
    {
     "data": {
      "image/png": "[encoded data removed]",
      "text/plain": [
       "<Figure size 432x288 with 1 Axes>"
      ]
     },
     "metadata": {
      "needs_background": "light"
     },
     "output_type": "display_data"
    },
    {
     "data": {
      "image/png": "[encoded data removed]",
      "text/plain": [
       "<Figure size 432x288 with 1 Axes>"
      ]
     },
     "metadata": {
      "needs_background": "light"
     },
     "output_type": "display_data"
    },
    {
     "data": {
      "image/png": "[encoded data removed]",
      "text/plain": [
       "<Figure size 432x288 with 1 Axes>"
      ]
     },
     "metadata": {
      "needs_background": "light"
     },
     "output_type": "display_data"
    }
   ],
   "source": [
    "plt.scatter(df_texas['deaths'], df_texas['confirmed'])\n",
    "plt.show();\n",
    "plt.scatter(df_texas['deaths'], df_texas['recovered'])\n",
    "plt.show();\n",
    "plt.scatter(df_texas['deaths'], df_texas['active'])\n",
    "plt.show();\n",
    "plt.scatter(df_texas['deaths'], df_texas['incident_rate'])\n",
    "plt.show();\n",
    "plt.scatter(df_texas['deaths'], df_texas['testing_rate'])\n",
    "plt.show();"
   ]
  },
  {
   "cell_type": "code",
   "execution_count": 20,
   "metadata": {},
   "outputs": [
    {
     "data": {
      "image/png": "[encoded data removed]",
      "text/plain": [
       "<Figure size 864x864 with 12 Axes>"
      ]
     },
     "metadata": {
      "needs_background": "light"
     },
     "output_type": "display_data"
    }
   ],
   "source": [
    "# histograms of numerical columns\n",
    "df_texas.hist(figsize=(12, 12));"
   ]
  },
  {
   "cell_type": "markdown",
   "metadata": {},
   "source": [
    "#### Boxplots"
   ]
  },
  {
   "cell_type": "code",
   "execution_count": 21,
   "metadata": {},
   "outputs": [
    {
     "data": {
      "image/png": "[encoded data removed]",
      "text/plain": [
       "<Figure size 432x288 with 1 Axes>"
      ]
     },
     "metadata": {
      "needs_background": "light"
     },
     "output_type": "display_data"
    }
   ],
   "source": [
    "# boxplot visualizing the distribution of deaths\n",
    "sns.boxplot(x = df_texas['deaths']);"
   ]
  },
  {
   "cell_type": "code",
   "execution_count": 22,
   "metadata": {},
   "outputs": [
    {
     "data": {
      "image/png": "[encoded data removed]",
      "text/plain": [
       "<Figure size 432x288 with 1 Axes>"
      ]
     },
     "metadata": {
      "needs_background": "light"
     },
     "output_type": "display_data"
    }
   ],
   "source": [
    "# boxplot visualizing the distribution of confirmed cases\n",
    "sns.boxplot(x = df_texas['confirmed']);"
   ]
  },
  {
   "cell_type": "code",
   "execution_count": 23,
   "metadata": {},
   "outputs": [
    {
     "data": {
      "image/png": "[encoded data removed]",
      "text/plain": [
       "<Figure size 432x288 with 1 Axes>"
      ]
     },
     "metadata": {
      "needs_background": "light"
     },
     "output_type": "display_data"
    }
   ],
   "source": [
    "# boxplot visualizing the distribution of recovered caases\n",
    "sns.boxplot(x = df_texas['recovered']);"
   ]
  },
  {
   "cell_type": "code",
   "execution_count": 24,
   "metadata": {},
   "outputs": [
    {
     "data": {
      "image/png": "[encoded data removed]",
      "text/plain": [
       "<Figure size 432x288 with 1 Axes>"
      ]
     },
     "metadata": {
      "needs_background": "light"
     },
     "output_type": "display_data"
    }
   ],
   "source": [
    "# boxplot visualizing the distribution of active COVID-19 cases\n",
    "sns.boxplot(x = df_texas['active']);"
   ]
  },
  {
   "cell_type": "markdown",
   "metadata": {},
   "source": [
    "Out of all of the boxplots, active cases seems to have the most outliers"
   ]
  },
  {
   "cell_type": "code",
   "execution_count": 25,
   "metadata": {},
   "outputs": [
    {
     "data": {
      "text/plain": [
       "province_state           0\n",
       "confirmed                0\n",
       "deaths                   0\n",
       "recovered                0\n",
       "active                   0\n",
       "fips                     0\n",
       "incident_rate            0\n",
       "people_tested           52\n",
       "mortality_rate          52\n",
       "uid                      0\n",
       "testing_rate             0\n",
       "total_test_results     132\n",
       "case_fatality_ratio    132\n",
       "dtype: int64"
      ]
     },
     "execution_count": 25,
     "metadata": {},
     "output_type": "execute_result"
    }
   ],
   "source": [
    "# checking for missing values\n",
    "df_texas.isnull().sum(0)"
   ]
  },
  {
   "cell_type": "code",
   "execution_count": 26,
   "metadata": {},
   "outputs": [],
   "source": [
    "# dropped columns with missing values. could imputate people_tested/mortality_rate, but mortality rate\n",
    "# feels like a give away considering deaths are our outcome of interest, and people_tested is associated with testing_rate\n",
    "X = df_texas.drop(columns=['deaths', 'province_state', \n",
    "                     'fips', 'uid', \n",
    "                     'case_fatality_ratio', 'mortality_rate',\n",
    "                     'people_tested', 'total_test_results']) \n",
    "y = df_texas['deaths']"
   ]
  },
  {
   "cell_type": "code",
   "execution_count": 27,
   "metadata": {},
   "outputs": [
    {
     "data": {
      "text/html": [
       "<div>\n",
       "<style scoped>\n",
       "    .dataframe tbody tr th:only-of-type {\n",
       "        vertical-align: middle;\n",
       "    }\n",
       "\n",
       "    .dataframe tbody tr th {\n",
       "        vertical-align: top;\n",
       "    }\n",
       "\n",
       "    .dataframe thead th {\n",
       "        text-align: right;\n",
       "    }\n",
       "</style>\n",
       "<table border=\"1\" class=\"dataframe\">\n",
       "  <thead>\n",
       "    <tr style=\"text-align: right;\">\n",
       "      <th></th>\n",
       "      <th>confirmed</th>\n",
       "      <th>recovered</th>\n",
       "      <th>active</th>\n",
       "      <th>incident_rate</th>\n",
       "      <th>testing_rate</th>\n",
       "    </tr>\n",
       "  </thead>\n",
       "  <tbody>\n",
       "    <tr>\n",
       "      <th>919</th>\n",
       "      <td>196377</td>\n",
       "      <td>100843.0</td>\n",
       "      <td>91461.0</td>\n",
       "      <td>672.274797</td>\n",
       "      <td>7357.793336</td>\n",
       "    </tr>\n",
       "    <tr>\n",
       "      <th>977</th>\n",
       "      <td>192796</td>\n",
       "      <td>97430.0</td>\n",
       "      <td>92116.0</td>\n",
       "      <td>662.690677</td>\n",
       "      <td>7145.183828</td>\n",
       "    </tr>\n",
       "    <tr>\n",
       "      <th>1499</th>\n",
       "      <td>429579</td>\n",
       "      <td>260542.0</td>\n",
       "      <td>161245.0</td>\n",
       "      <td>1476.861489</td>\n",
       "      <td>12448.230147</td>\n",
       "    </tr>\n",
       "    <tr>\n",
       "      <th>3183</th>\n",
       "      <td>263551</td>\n",
       "      <td>132638.0</td>\n",
       "      <td>126908.0</td>\n",
       "      <td>906.204574</td>\n",
       "      <td>8596.924508</td>\n",
       "    </tr>\n",
       "    <tr>\n",
       "      <th>3241</th>\n",
       "      <td>270707</td>\n",
       "      <td>136419.0</td>\n",
       "      <td>130083.0</td>\n",
       "      <td>930.401115</td>\n",
       "      <td>8760.295988</td>\n",
       "    </tr>\n",
       "  </tbody>\n",
       "</table>\n",
       "</div>"
      ],
      "text/plain": [
       "      confirmed  recovered    active  incident_rate  testing_rate\n",
       "919      196377   100843.0   91461.0     672.274797   7357.793336\n",
       "977      192796    97430.0   92116.0     662.690677   7145.183828\n",
       "1499     429579   260542.0  161245.0    1476.861489  12448.230147\n",
       "3183     263551   132638.0  126908.0     906.204574   8596.924508\n",
       "3241     270707   136419.0  130083.0     930.401115   8760.295988"
      ]
     },
     "execution_count": 27,
     "metadata": {},
     "output_type": "execute_result"
    }
   ],
   "source": [
    "X.head()"
   ]
  },
  {
   "cell_type": "markdown",
   "metadata": {},
   "source": [
    "## Part 3: Model Testing"
   ]
  },
  {
   "cell_type": "markdown",
   "metadata": {},
   "source": [
    "### Model 1: Null Model"
   ]
  },
  {
   "cell_type": "code",
   "execution_count": 28,
   "metadata": {},
   "outputs": [
    {
     "data": {
      "text/plain": [
       "15338.282608695652"
      ]
     },
     "execution_count": 28,
     "metadata": {},
     "output_type": "execute_result"
    }
   ],
   "source": [
    "# Mean deaths\n",
    "df_texas['deaths'].mean()"
   ]
  },
  {
   "cell_type": "code",
   "execution_count": 29,
   "metadata": {},
   "outputs": [
    {
     "data": {
      "text/plain": [
       "0.0"
      ]
     },
     "execution_count": 29,
     "metadata": {},
     "output_type": "execute_result"
    }
   ],
   "source": [
    "# Define y\n",
    "y = df_texas['deaths']\n",
    "\n",
    "# Create a new column for the baseline target variable\n",
    "df_texas['null_deaths'] = y.mean()\n",
    "\n",
    "# Predictions for the null model\n",
    "y_preds = df_texas['null_deaths']\n",
    "\n",
    "# Null R-squared\n",
    "metrics.r2_score(y, y_preds)"
   ]
  },
  {
   "cell_type": "code",
   "execution_count": 30,
   "metadata": {},
   "outputs": [
    {
     "data": {
      "text/plain": [
       "6936.424369142072"
      ]
     },
     "execution_count": 30,
     "metadata": {},
     "output_type": "execute_result"
    }
   ],
   "source": [
    "# Null RMSE\n",
    "np.sqrt(metrics.mean_squared_error(y_true=y, y_pred=y_preds))"
   ]
  },
  {
   "cell_type": "code",
   "execution_count": 31,
   "metadata": {},
   "outputs": [],
   "source": [
    "X = df_texas.drop(columns=['deaths', 'province_state', \n",
    "                     'fips', 'uid', \n",
    "                     'case_fatality_ratio', 'mortality_rate',\n",
    "                     'people_tested', 'total_test_results',\n",
    "                     'null_deaths']) # Removed null_deaths which was created for null model\n",
    "y = df_texas['deaths']"
   ]
  },
  {
   "cell_type": "code",
   "execution_count": 32,
   "metadata": {},
   "outputs": [
    {
     "data": {
      "text/plain": [
       "Index(['confirmed', 'recovered', 'active', 'incident_rate', 'testing_rate'], dtype='object')"
      ]
     },
     "execution_count": 32,
     "metadata": {},
     "output_type": "execute_result"
    }
   ],
   "source": [
    "X.columns"
   ]
  },
  {
   "cell_type": "markdown",
   "metadata": {},
   "source": [
    "## Model 2: Linear Regression"
   ]
  },
  {
   "cell_type": "code",
   "execution_count": 33,
   "metadata": {},
   "outputs": [
    {
     "data": {
      "text/plain": [
       "(0.995648370687546, 0.9985647799342895)"
      ]
     },
     "execution_count": 33,
     "metadata": {},
     "output_type": "execute_result"
    }
   ],
   "source": [
    "X_train, X_test, y_train, y_test = train_test_split(X, y, random_state=42)\n",
    "lr = LinearRegression()\n",
    "sc = StandardScaler()\n",
    "Z_train = sc.fit_transform(X_train)\n",
    "Z_test = sc.transform(X_test)\n",
    "lr.fit(Z_train, y_train)\n",
    "lr.score(Z_train, y_train), lr.score(Z_test, y_test)"
   ]
  },
  {
   "cell_type": "code",
   "execution_count": 34,
   "metadata": {},
   "outputs": [
    {
     "data": {
      "text/plain": [
       "(455.77076804228386, 261.2977834895292)"
      ]
     },
     "execution_count": 34,
     "metadata": {},
     "output_type": "execute_result"
    }
   ],
   "source": [
    "lr_preds = lr.predict(Z_test)\n",
    "np.sqrt(metrics.mean_squared_error(y_train, lr.predict(Z_train))), np.sqrt(metrics.mean_squared_error(y_test, lr_preds))"
   ]
  },
  {
   "cell_type": "code",
   "execution_count": 35,
   "metadata": {},
   "outputs": [
    {
     "name": "stdout",
     "output_type": "stream",
     "text": [
      "{'confirmed': 8564.794386975516, 'recovered': -172837.36429458947, 'active': -36192.85602805685, 'incident_rate': 199989.75864526758, 'testing_rate': -1648.3269803988628}\n"
     ]
    }
   ],
   "source": [
    "print(dict(zip(X.columns, lr.coef_)))"
   ]
  },
  {
   "cell_type": "markdown",
   "metadata": {},
   "source": [
    "####  PCA"
   ]
  },
  {
   "cell_type": "code",
   "execution_count": 36,
   "metadata": {},
   "outputs": [],
   "source": [
    "ss = StandardScaler()\n",
    "Z_train = ss.fit_transform(X_train)\n",
    "Z_test = ss.transform(X_test)"
   ]
  },
  {
   "cell_type": "code",
   "execution_count": 37,
   "metadata": {},
   "outputs": [
    {
     "data": {
      "text/plain": [
       "array([[-0.46053952, -0.82373981],\n",
       "       [-1.88346391,  0.69502531],\n",
       "       [-0.66966596, -0.79587146],\n",
       "       [ 0.26554559, -0.6116212 ],\n",
       "       [-1.24368686, -0.31623252],\n",
       "       [ 4.46795539,  0.34761805],\n",
       "       [-1.97931476,  0.88191016],\n",
       "       [ 2.18691792,  0.34620792],\n",
       "       [-1.31210834,  0.024653  ],\n",
       "       [ 2.91307221, -0.47327827],\n",
       "       [ 2.79758869,  0.52200795],\n",
       "       [-1.10582306, -0.64628344],\n",
       "       [ 2.12787395,  0.39173151],\n",
       "       [-2.22549064,  1.04166957],\n",
       "       [ 4.63627016,  0.51951168],\n",
       "       [ 2.86688108,  0.53433048],\n",
       "       [-0.55800274, -0.81453773],\n",
       "       [-1.18127131, -0.52508232],\n",
       "       [-1.70044275,  0.56763925],\n",
       "       [ 1.17238881, -0.35524471],\n",
       "       [-3.25401345,  0.441657  ],\n",
       "       [-0.28265754, -0.76420011],\n",
       "       [-0.32376117, -0.79030856],\n",
       "       [-0.5366011 , -0.81746075],\n",
       "       [-2.33891255,  1.02354331],\n",
       "       [ 4.38816769,  0.51632932],\n",
       "       [ 0.42044502, -0.5424636 ],\n",
       "       [-2.08686765,  0.99762253],\n",
       "       [-2.08221174,  0.87674132],\n",
       "       [-0.2125668 , -0.7529622 ],\n",
       "       [-2.83520524,  0.75454447],\n",
       "       [-1.38772034,  0.20695708],\n",
       "       [-0.40564493, -0.82069018],\n",
       "       [ 1.30555956, -0.29059956],\n",
       "       [ 0.09428881, -0.68496127],\n",
       "       [ 2.99740848,  0.54161249],\n",
       "       [-2.77470255,  0.78809016],\n",
       "       [ 0.13776488, -0.65278622],\n",
       "       [ 1.04837612, -0.22750412],\n",
       "       [-3.32977099,  0.35142187],\n",
       "       [ 1.88256506,  0.19133978],\n",
       "       [-1.1789866 , -0.43153819],\n",
       "       [ 0.22053931, -0.62982645],\n",
       "       [-0.73738936, -0.8323004 ],\n",
       "       [-1.42888068,  0.33549687],\n",
       "       [ 1.01147647, -0.23547997],\n",
       "       [-2.02113504,  0.90345266],\n",
       "       [-1.26169721, -0.1372922 ],\n",
       "       [ 2.32616249,  0.44676025],\n",
       "       [ 2.23887314,  0.36237318],\n",
       "       [-2.27114608,  1.04995458],\n",
       "       [-3.18423836,  0.50067638],\n",
       "       [ 0.57416457, -0.49249165],\n",
       "       [-1.07510533, -0.59873371],\n",
       "       [-1.16101493, -0.54271233],\n",
       "       [-1.10983078, -0.55451175],\n",
       "       [-1.89897498,  0.80540266],\n",
       "       [-0.57636442, -0.80573273],\n",
       "       [-0.78348486, -0.79780172],\n",
       "       [-1.23383687, -0.35075779],\n",
       "       [ 3.95501595,  0.70450322],\n",
       "       [ 2.72295292,  0.5157285 ],\n",
       "       [-1.58977915,  0.45530867],\n",
       "       [-0.18088059, -0.74759223],\n",
       "       [ 1.82892388,  0.17635547],\n",
       "       [ 3.14005655,  0.52688456],\n",
       "       [-1.7723039 ,  0.63549871],\n",
       "       [-0.82492519, -0.77064331],\n",
       "       [-1.94519941,  0.82323869],\n",
       "       [-1.42001724,  0.27948964],\n",
       "       [ 0.64104955, -0.44864888],\n",
       "       [ 1.23403985, -0.32579093],\n",
       "       [-0.77384708, -0.42814934],\n",
       "       [ 4.67331053,  0.48499922],\n",
       "       [ 0.50986094, -0.53027832],\n",
       "       [ 1.15750255, -0.29748781],\n",
       "       [-0.05869509, -0.72924238],\n",
       "       [-1.28754719, -0.05234903],\n",
       "       [-2.1415492 ,  0.93063937],\n",
       "       [ 0.84590609, -0.36295315],\n",
       "       [ 3.67952804,  0.41375854],\n",
       "       [-2.8811446 ,  0.72354989],\n",
       "       [ 2.5390063 ,  0.4275247 ],\n",
       "       [-1.92579119,  0.76296966],\n",
       "       [-1.09770915, -0.61454396],\n",
       "       [-1.54736245,  0.44572896],\n",
       "       [-2.48430136,  0.9776023 ],\n",
       "       [-0.43386261, -0.81831469],\n",
       "       [-1.20668966, -0.3480665 ],\n",
       "       [-0.99147636, -0.71419513],\n",
       "       [ 2.99781064, -0.49132176],\n",
       "       [ 3.06414984,  0.52942586],\n",
       "       [-1.02055668, -0.72307206],\n",
       "       [-2.42187859,  1.02686499],\n",
       "       [-3.43375689,  0.30613632],\n",
       "       [-1.34133127,  0.0335241 ],\n",
       "       [ 4.1574813 ,  0.45278727],\n",
       "       [ 1.11787679, -0.25540504],\n",
       "       [-2.14738717,  0.99501954],\n",
       "       [-0.80554189, -0.78456541],\n",
       "       [ 3.04022664, -0.51052342],\n",
       "       [ 2.14950757,  0.34210059],\n",
       "       [ 4.88920094,  0.45722011],\n",
       "       [ 2.40317296,  0.49890068],\n",
       "       [-0.77225324, -0.47672893],\n",
       "       [-1.36519825,  0.12220289],\n",
       "       [-0.25832057, -0.77208466],\n",
       "       [-1.44869256,  0.38666424],\n",
       "       [ 4.78353639,  0.42596873],\n",
       "       [-1.35427102,  0.09801491],\n",
       "       [-1.62431264,  0.49745903],\n",
       "       [-1.04183179, -0.68990806],\n",
       "       [-3.5510591 ,  0.1951687 ],\n",
       "       [-1.63605702,  0.55231256],\n",
       "       [ 2.44445583,  0.44934742],\n",
       "       [ 1.58114774, -0.09862589],\n",
       "       [-1.7185014 ,  0.59059001],\n",
       "       [ 3.97738173,  0.50135092],\n",
       "       [ 4.42135456,  0.42856253],\n",
       "       [-3.346534  ,  0.36843591],\n",
       "       [-1.25835893, -0.07682235],\n",
       "       [ 2.02787185,  0.31827686],\n",
       "       [ 1.65830334, -0.06758101],\n",
       "       [ 0.92527047, -0.29742843],\n",
       "       [-0.50726738, -0.81996848],\n",
       "       [-0.38731949, -0.82157426],\n",
       "       [-0.14250872, -0.72372533],\n",
       "       [-0.75701995, -0.78356649],\n",
       "       [-1.13080464, -0.5865419 ],\n",
       "       [-0.36380826, -0.81284355],\n",
       "       [ 4.26700753,  0.45616274],\n",
       "       [-2.99457117,  0.64165999],\n",
       "       [-1.16711675, -0.42333105],\n",
       "       [-0.0927572 , -0.73387529],\n",
       "       [-3.39000555,  0.34399321],\n",
       "       [-0.65005155, -0.80453383],\n",
       "       [ 3.80671069,  0.49569904],\n",
       "       [ 0.06478111, -0.70662026]])"
      ]
     },
     "execution_count": 37,
     "metadata": {},
     "output_type": "execute_result"
    }
   ],
   "source": [
    "pca = PCA(n_components=2)\n",
    "pca.fit(Z_train)\n",
    "pca.transform(Z_train)"
   ]
  },
  {
   "cell_type": "code",
   "execution_count": 38,
   "metadata": {},
   "outputs": [
    {
     "data": {
      "text/plain": [
       "array([0.92677181, 0.07150961])"
      ]
     },
     "execution_count": 38,
     "metadata": {},
     "output_type": "execute_result"
    }
   ],
   "source": [
    "var_exp = pca.explained_variance_ratio_\n",
    "var_exp"
   ]
  },
  {
   "cell_type": "code",
   "execution_count": 39,
   "metadata": {},
   "outputs": [
    {
     "data": {
      "text/plain": [
       "array([0.92677181, 0.99828142])"
      ]
     },
     "execution_count": 39,
     "metadata": {},
     "output_type": "execute_result"
    }
   ],
   "source": [
    "cum_var_exp = np.cumsum(var_exp)\n",
    "cum_var_exp"
   ]
  },
  {
   "cell_type": "markdown",
   "metadata": {},
   "source": [
    "PCA model was ran to observe the predictive capability of our model.\n",
    "Ultimately, PCA does not offer interpretability, so we did not proceed with PCA"
   ]
  },
  {
   "cell_type": "markdown",
   "metadata": {},
   "source": [
    "## Model 3: Ridge Regression"
   ]
  },
  {
   "cell_type": "code",
   "execution_count": 40,
   "metadata": {},
   "outputs": [],
   "source": [
    "# setting up ridge model and parameters\n",
    "ridge_reg = Ridge()\n",
    "\n",
    "params_ridge = {'alpha': [1,0.1,0.01,0.001,0.0001,0], \n",
    "                \"fit_intercept\": [True, False], \n",
    "                \"solver\": ['svd', 'cholesky', 'lsqr', 'sparse_cg', 'sag', 'saga']}"
   ]
  },
  {
   "cell_type": "code",
   "execution_count": 41,
   "metadata": {},
   "outputs": [],
   "source": [
    "# setting up X and y\n",
    "X = df_texas.drop(columns=['deaths', 'province_state', \n",
    "                     'fips', 'uid', \n",
    "                     'case_fatality_ratio', 'mortality_rate',\n",
    "                     'people_tested', 'total_test_results',\n",
    "                     'null_deaths']) # Removed null_deaths which was created for null model\n",
    "y = df_texas['deaths']"
   ]
  },
  {
   "cell_type": "code",
   "execution_count": 42,
   "metadata": {},
   "outputs": [
    {
     "data": {
      "text/plain": [
       "Index(['confirmed', 'recovered', 'active', 'incident_rate', 'testing_rate'], dtype='object')"
      ]
     },
     "execution_count": 42,
     "metadata": {},
     "output_type": "execute_result"
    }
   ],
   "source": [
    "X.columns"
   ]
  },
  {
   "cell_type": "code",
   "execution_count": 43,
   "metadata": {},
   "outputs": [
    {
     "data": {
      "text/plain": [
       "(184, 5)"
      ]
     },
     "execution_count": 43,
     "metadata": {},
     "output_type": "execute_result"
    }
   ],
   "source": [
    "X.shape"
   ]
  },
  {
   "cell_type": "code",
   "execution_count": 44,
   "metadata": {},
   "outputs": [],
   "source": [
    "# train-test-split\n",
    "X_train, X_test, y_train, y_test = train_test_split(X, y, random_state=42)"
   ]
  },
  {
   "cell_type": "code",
   "execution_count": 45,
   "metadata": {},
   "outputs": [
    {
     "data": {
      "text/plain": [
       "{'alpha': 0.01, 'fit_intercept': True, 'solver': 'lsqr'}"
      ]
     },
     "execution_count": 45,
     "metadata": {},
     "output_type": "execute_result"
    }
   ],
   "source": [
    "# performing our gridsearch\n",
    "ridge_gs = GridSearchCV(ridge_reg, param_grid=params_ridge, n_jobs=-1)\n",
    "ridge_gs.fit(X_train,y_train)\n",
    "ridge_gs.best_params_"
   ]
  },
  {
   "cell_type": "code",
   "execution_count": 46,
   "metadata": {},
   "outputs": [
    {
     "data": {
      "text/plain": [
       "0.9904466613577471"
      ]
     },
     "execution_count": 46,
     "metadata": {},
     "output_type": "execute_result"
    }
   ],
   "source": [
    "ridge_gs.best_score_"
   ]
  },
  {
   "cell_type": "code",
   "execution_count": 47,
   "metadata": {},
   "outputs": [],
   "source": [
    "# setting up ridge model with best paramters\n",
    "ridge_reg = Ridge(alpha = 0.01, solver='lsqr')"
   ]
  },
  {
   "cell_type": "code",
   "execution_count": 48,
   "metadata": {},
   "outputs": [],
   "source": [
    "# scaling the data\n",
    "sc = StandardScaler()\n",
    "Z_train = sc.fit_transform(X_train)\n",
    "Z_test = sc.transform(X_test)"
   ]
  },
  {
   "cell_type": "code",
   "execution_count": 49,
   "metadata": {},
   "outputs": [
    {
     "data": {
      "text/plain": [
       "(0.9919204551916819, 0.9951482276773628)"
      ]
     },
     "execution_count": 49,
     "metadata": {},
     "output_type": "execute_result"
    }
   ],
   "source": [
    "# fitting our data with the best paramters\n",
    "ridge_reg.fit(Z_train, y_train)\n",
    "ridge_reg.score(Z_train, y_train), ridge_reg.score(Z_test, y_test)"
   ]
  },
  {
   "cell_type": "code",
   "execution_count": 50,
   "metadata": {},
   "outputs": [
    {
     "data": {
      "text/plain": [
       "(621.0319838224115, 480.42619969124365)"
      ]
     },
     "execution_count": 50,
     "metadata": {},
     "output_type": "execute_result"
    }
   ],
   "source": [
    "# calculating predictions and RMSE\n",
    "ridge_reg_preds = ridge_reg.predict(Z_test)\n",
    "np.sqrt(metrics.mean_squared_error(y_train, ridge_reg.predict(Z_train))), np.sqrt(metrics.mean_squared_error(y_test, ridge_reg_preds))"
   ]
  },
  {
   "cell_type": "code",
   "execution_count": 51,
   "metadata": {},
   "outputs": [
    {
     "name": "stdout",
     "output_type": "stream",
     "text": [
      "{'confirmed': 13189.337556497248, 'recovered': -1626.3541590637162, 'active': -2808.6466465176964, 'incident_rate': -39.721585080646264, 'testing_rate': -2615.8538740025433}\n"
     ]
    }
   ],
   "source": [
    "# evaluating coefficients\n",
    "print(dict(zip(X.columns, ridge_reg.coef_)))"
   ]
  },
  {
   "cell_type": "code",
   "execution_count": 52,
   "metadata": {},
   "outputs": [
    {
     "data": {
      "image/png": "[encoded data removed]",
      "text/plain": [
       "<Figure size 720x576 with 1 Axes>"
      ]
     },
     "metadata": {
      "needs_background": "light"
     },
     "output_type": "display_data"
    }
   ],
   "source": [
    "# visualizing coefficients\n",
    "features = ['confirmed', 'recovered', 'active', 'incident_rate', 'testing_rate']\n",
    "pd.Series(ridge_reg.coef_, index=features).plot.bar(figsize=(10, 8));"
   ]
  },
  {
   "cell_type": "code",
   "execution_count": 53,
   "metadata": {},
   "outputs": [
    {
     "data": {
      "image/png": "[encoded data removed]",
      "text/plain": [
       "<Figure size 432x288 with 1 Axes>"
      ]
     },
     "metadata": {
      "needs_background": "light"
     },
     "output_type": "display_data"
    }
   ],
   "source": [
    "# comparing test values with model predicted values\n",
    "plt.scatter(ridge_reg_preds, y_test)\n",
    "plt.title('Baseline vs Production Model')\n",
    "plt.ylabel('Test Deaths')\n",
    "plt.xlabel('Predicted Deaths')\n",
    "plt.axhline(df_texas['deaths'].mean(), color='orange');"
   ]
  },
  {
   "cell_type": "markdown",
   "metadata": {},
   "source": [
    "**Interpretation:**\n",
    "Our R-squared on unseen data is 99.5%, and our RMSE on unseen data is 480.43.\n",
    "\n",
    "Because this model has the best values for our metrics of interest, we will use Ridge Regression as our production model"
   ]
  },
  {
   "cell_type": "markdown",
   "metadata": {},
   "source": [
    "## Model 4: Lasso Regression"
   ]
  },
  {
   "cell_type": "code",
   "execution_count": 54,
   "metadata": {},
   "outputs": [],
   "source": [
    "# setting up lasso model\n",
    "lasso_reg = Lasso()"
   ]
  },
  {
   "cell_type": "code",
   "execution_count": 55,
   "metadata": {},
   "outputs": [],
   "source": [
    "# grid search parameters\n",
    "params_lasso = {'alpha': [1,0.1,0.01,0.001,0.0001,0], \n",
    "                \"fit_intercept\": [True, False], \n",
    "                \"selection\": ['cyclic', 'random']}"
   ]
  },
  {
   "cell_type": "code",
   "execution_count": 56,
   "metadata": {},
   "outputs": [],
   "source": [
    "# setting up X and y\n",
    "X = df_texas.drop(columns=['deaths', 'province_state', \n",
    "                     'fips', 'uid', \n",
    "                     'case_fatality_ratio', 'mortality_rate',\n",
    "                     'people_tested', 'total_test_results',\n",
    "                     'null_deaths']) # Removed null_deaths which was created for null model\n",
    "y = df_texas['deaths']"
   ]
  },
  {
   "cell_type": "code",
   "execution_count": 57,
   "metadata": {},
   "outputs": [],
   "source": [
    "# train test split\n",
    "X_train, X_test, y_train, y_test = train_test_split(X, y, random_state=42)"
   ]
  },
  {
   "cell_type": "code",
   "execution_count": 58,
   "metadata": {},
   "outputs": [
    {
     "name": "stderr",
     "output_type": "stream",
     "text": [
      "/Users/ericrodriguez/opt/anaconda3/lib/python3.8/site-packages/sklearn/linear_model/_coordinate_descent.py:529: ConvergenceWarning: Objective did not converge. You might want to increase the number of iterations. Duality gap: 26678506.592079856, tolerance: 658749.2402492755\n",
      "  model = cd_fast.enet_coordinate_descent(\n"
     ]
    },
    {
     "data": {
      "text/plain": [
       "{'alpha': 1, 'fit_intercept': True, 'selection': 'cyclic'}"
      ]
     },
     "execution_count": 58,
     "metadata": {},
     "output_type": "execute_result"
    }
   ],
   "source": [
    "# performing gridsearch on lasso model\n",
    "lasso_gs = GridSearchCV(lasso_reg, param_grid=params_lasso, n_jobs=-1)\n",
    "lasso_gs.fit(X_train,y_train)\n",
    "lasso_gs.best_params_"
   ]
  },
  {
   "cell_type": "code",
   "execution_count": 59,
   "metadata": {},
   "outputs": [
    {
     "data": {
      "text/plain": [
       "0.991148026858958"
      ]
     },
     "execution_count": 59,
     "metadata": {},
     "output_type": "execute_result"
    }
   ],
   "source": [
    "lasso_gs.best_score_"
   ]
  },
  {
   "cell_type": "code",
   "execution_count": 60,
   "metadata": {},
   "outputs": [],
   "source": [
    "# setting up lasso model with best parameters\n",
    "lasso_reg = Lasso(alpha = 1, selection='cyclic')"
   ]
  },
  {
   "cell_type": "code",
   "execution_count": 61,
   "metadata": {},
   "outputs": [],
   "source": [
    "# scaling the data\n",
    "sc = StandardScaler()\n",
    "Z_train = sc.fit_transform(X_train)\n",
    "Z_test = sc.transform(X_test)"
   ]
  },
  {
   "cell_type": "code",
   "execution_count": 62,
   "metadata": {},
   "outputs": [
    {
     "name": "stderr",
     "output_type": "stream",
     "text": [
      "/Users/ericrodriguez/opt/anaconda3/lib/python3.8/site-packages/sklearn/linear_model/_coordinate_descent.py:529: ConvergenceWarning: Objective did not converge. You might want to increase the number of iterations. Duality gap: 14434975.644586597, tolerance: 658749.2402492755\n",
      "  model = cd_fast.enet_coordinate_descent(\n"
     ]
    },
    {
     "data": {
      "text/plain": [
       "(0.991730792800147, 0.9948596502742885)"
      ]
     },
     "execution_count": 62,
     "metadata": {},
     "output_type": "execute_result"
    }
   ],
   "source": [
    "# fitting our data with the best parameters\n",
    "lasso_reg.fit(Z_train, y_train)\n",
    "lasso_reg.score(Z_train, y_train), lasso_reg.score(Z_test, y_test)"
   ]
  },
  {
   "cell_type": "code",
   "execution_count": 63,
   "metadata": {},
   "outputs": [
    {
     "data": {
      "text/plain": [
       "(628.2788751455306, 494.50741790818853)"
      ]
     },
     "execution_count": 63,
     "metadata": {},
     "output_type": "execute_result"
    }
   ],
   "source": [
    "# calculating predictions and RMSE\n",
    "lasso_reg_preds = lasso_reg.predict(Z_test)\n",
    "np.sqrt(metrics.mean_squared_error(y_train, lasso_reg.predict(Z_train))), np.sqrt(metrics.mean_squared_error(y_test, lasso_reg_preds))"
   ]
  },
  {
   "cell_type": "code",
   "execution_count": 64,
   "metadata": {},
   "outputs": [
    {
     "name": "stdout",
     "output_type": "stream",
     "text": [
      "{'confirmed': 10846.483542898146, 'recovered': -1250.8800740939073, 'active': -2730.2334714929148, 'incident_rate': 803.1091806971322, 'testing_rate': -1548.746569416119}\n"
     ]
    }
   ],
   "source": [
    "# evaluating lasso model coefficients\n",
    "print(dict(zip(X.columns, lasso_reg.coef_)))"
   ]
  },
  {
   "cell_type": "code",
   "execution_count": 65,
   "metadata": {},
   "outputs": [
    {
     "data": {
      "image/png": "[encoded data removed]",
      "text/plain": [
       "<Figure size 1080x504 with 1 Axes>"
      ]
     },
     "metadata": {
      "needs_background": "light"
     },
     "output_type": "display_data"
    }
   ],
   "source": [
    "# visualizing coefficients\n",
    "features = ['confirmed', 'recovered', 'active', 'incident_rate', 'testing_rate']\n",
    "pd.Series(lasso_reg.coef_, index=features).plot.bar(figsize=(15, 7));"
   ]
  },
  {
   "cell_type": "code",
   "execution_count": 66,
   "metadata": {},
   "outputs": [
    {
     "data": {
      "image/png": "[encoded data removed]",
      "text/plain": [
       "<Figure size 432x288 with 1 Axes>"
      ]
     },
     "metadata": {
      "needs_background": "light"
     },
     "output_type": "display_data"
    }
   ],
   "source": [
    "# comparing test values with model predicted values\n",
    "plt.scatter(lasso_reg_preds, y_test)\n",
    "plt.title('Baseline vs Production Model')\n",
    "plt.ylabel('Test Deaths')\n",
    "plt.xlabel('Predicted Deaths')\n",
    "plt.axhline(df_texas['deaths'].mean(), color='orange');"
   ]
  },
  {
   "cell_type": "markdown",
   "metadata": {},
   "source": [
    "**Interpretation:**\n",
    "Our R-squared on unseen data is 99.5%, and our RMSE on unseen data is 494.51"
   ]
  },
  {
   "cell_type": "markdown",
   "metadata": {},
   "source": [
    "## Future Steps"
   ]
  },
  {
   "cell_type": "code",
   "execution_count": 67,
   "metadata": {},
   "outputs": [
    {
     "data": {
      "text/html": [
       "<div>\n",
       "<style scoped>\n",
       "    .dataframe tbody tr th:only-of-type {\n",
       "        vertical-align: middle;\n",
       "    }\n",
       "\n",
       "    .dataframe tbody tr th {\n",
       "        vertical-align: top;\n",
       "    }\n",
       "\n",
       "    .dataframe thead th {\n",
       "        text-align: right;\n",
       "    }\n",
       "</style>\n",
       "<table border=\"1\" class=\"dataframe\">\n",
       "  <thead>\n",
       "    <tr style=\"text-align: right;\">\n",
       "      <th></th>\n",
       "      <th>Province_State</th>\n",
       "      <th>Country_Region</th>\n",
       "      <th>Last_Update</th>\n",
       "      <th>Lat</th>\n",
       "      <th>Long_</th>\n",
       "      <th>Confirmed</th>\n",
       "      <th>Deaths</th>\n",
       "      <th>Recovered</th>\n",
       "      <th>Active</th>\n",
       "      <th>FIPS</th>\n",
       "      <th>Incident_Rate</th>\n",
       "      <th>People_Tested</th>\n",
       "      <th>People_Hospitalized</th>\n",
       "      <th>Mortality_Rate</th>\n",
       "      <th>UID</th>\n",
       "      <th>ISO3</th>\n",
       "      <th>Testing_Rate</th>\n",
       "      <th>Hospitalization_Rate</th>\n",
       "      <th>Total_Test_Results</th>\n",
       "      <th>Case_Fatality_Ratio</th>\n",
       "    </tr>\n",
       "  </thead>\n",
       "  <tbody>\n",
       "    <tr>\n",
       "      <th>919</th>\n",
       "      <td>Texas</td>\n",
       "      <td>US</td>\n",
       "      <td>2020-07-06 04:34:10</td>\n",
       "      <td>31.0545</td>\n",
       "      <td>-97.5635</td>\n",
       "      <td>196377</td>\n",
       "      <td>2817</td>\n",
       "      <td>100843.0</td>\n",
       "      <td>91461.0</td>\n",
       "      <td>48.0</td>\n",
       "      <td>672.274797</td>\n",
       "      <td>2133457.0</td>\n",
       "      <td>NaN</td>\n",
       "      <td>1.348162</td>\n",
       "      <td>84000048.0</td>\n",
       "      <td>USA</td>\n",
       "      <td>7357.793336</td>\n",
       "      <td>NaN</td>\n",
       "      <td>NaN</td>\n",
       "      <td>NaN</td>\n",
       "    </tr>\n",
       "    <tr>\n",
       "      <th>977</th>\n",
       "      <td>Texas</td>\n",
       "      <td>US</td>\n",
       "      <td>2020-07-05 04:34:00</td>\n",
       "      <td>31.0545</td>\n",
       "      <td>-97.5635</td>\n",
       "      <td>192796</td>\n",
       "      <td>2784</td>\n",
       "      <td>97430.0</td>\n",
       "      <td>92116.0</td>\n",
       "      <td>48.0</td>\n",
       "      <td>662.690677</td>\n",
       "      <td>2071809.0</td>\n",
       "      <td>NaN</td>\n",
       "      <td>1.356731</td>\n",
       "      <td>84000048.0</td>\n",
       "      <td>USA</td>\n",
       "      <td>7145.183828</td>\n",
       "      <td>NaN</td>\n",
       "      <td>NaN</td>\n",
       "      <td>NaN</td>\n",
       "    </tr>\n",
       "    <tr>\n",
       "      <th>1499</th>\n",
       "      <td>Texas</td>\n",
       "      <td>US</td>\n",
       "      <td>2020-07-31 04:35:31</td>\n",
       "      <td>31.0545</td>\n",
       "      <td>-97.5635</td>\n",
       "      <td>429579</td>\n",
       "      <td>6839</td>\n",
       "      <td>260542.0</td>\n",
       "      <td>161245.0</td>\n",
       "      <td>48.0</td>\n",
       "      <td>1476.861489</td>\n",
       "      <td>3609474.0</td>\n",
       "      <td>NaN</td>\n",
       "      <td>1.504335</td>\n",
       "      <td>84000048.0</td>\n",
       "      <td>USA</td>\n",
       "      <td>12448.230147</td>\n",
       "      <td>NaN</td>\n",
       "      <td>NaN</td>\n",
       "      <td>NaN</td>\n",
       "    </tr>\n",
       "    <tr>\n",
       "      <th>3183</th>\n",
       "      <td>Texas</td>\n",
       "      <td>US</td>\n",
       "      <td>2020-07-13 04:43:16</td>\n",
       "      <td>31.0545</td>\n",
       "      <td>-97.5635</td>\n",
       "      <td>263551</td>\n",
       "      <td>3432</td>\n",
       "      <td>132638.0</td>\n",
       "      <td>126908.0</td>\n",
       "      <td>48.0</td>\n",
       "      <td>906.204574</td>\n",
       "      <td>2492754.0</td>\n",
       "      <td>NaN</td>\n",
       "      <td>1.223921</td>\n",
       "      <td>84000048.0</td>\n",
       "      <td>USA</td>\n",
       "      <td>8596.924508</td>\n",
       "      <td>NaN</td>\n",
       "      <td>NaN</td>\n",
       "      <td>NaN</td>\n",
       "    </tr>\n",
       "    <tr>\n",
       "      <th>3241</th>\n",
       "      <td>Texas</td>\n",
       "      <td>US</td>\n",
       "      <td>2020-07-14 04:34:58</td>\n",
       "      <td>31.0545</td>\n",
       "      <td>-97.5635</td>\n",
       "      <td>270707</td>\n",
       "      <td>3505</td>\n",
       "      <td>136419.0</td>\n",
       "      <td>130083.0</td>\n",
       "      <td>48.0</td>\n",
       "      <td>930.401115</td>\n",
       "      <td>2540125.0</td>\n",
       "      <td>NaN</td>\n",
       "      <td>1.214332</td>\n",
       "      <td>84000048.0</td>\n",
       "      <td>USA</td>\n",
       "      <td>8760.295988</td>\n",
       "      <td>NaN</td>\n",
       "      <td>NaN</td>\n",
       "      <td>NaN</td>\n",
       "    </tr>\n",
       "  </tbody>\n",
       "</table>\n",
       "</div>"
      ],
      "text/plain": [
       "     Province_State Country_Region          Last_Update      Lat    Long_  \\\n",
       "919           Texas             US  2020-07-06 04:34:10  31.0545 -97.5635   \n",
       "977           Texas             US  2020-07-05 04:34:00  31.0545 -97.5635   \n",
       "1499          Texas             US  2020-07-31 04:35:31  31.0545 -97.5635   \n",
       "3183          Texas             US  2020-07-13 04:43:16  31.0545 -97.5635   \n",
       "3241          Texas             US  2020-07-14 04:34:58  31.0545 -97.5635   \n",
       "\n",
       "      Confirmed  Deaths  Recovered    Active  FIPS  Incident_Rate  \\\n",
       "919      196377    2817   100843.0   91461.0  48.0     672.274797   \n",
       "977      192796    2784    97430.0   92116.0  48.0     662.690677   \n",
       "1499     429579    6839   260542.0  161245.0  48.0    1476.861489   \n",
       "3183     263551    3432   132638.0  126908.0  48.0     906.204574   \n",
       "3241     270707    3505   136419.0  130083.0  48.0     930.401115   \n",
       "\n",
       "      People_Tested  People_Hospitalized  Mortality_Rate         UID ISO3  \\\n",
       "919       2133457.0                  NaN        1.348162  84000048.0  USA   \n",
       "977       2071809.0                  NaN        1.356731  84000048.0  USA   \n",
       "1499      3609474.0                  NaN        1.504335  84000048.0  USA   \n",
       "3183      2492754.0                  NaN        1.223921  84000048.0  USA   \n",
       "3241      2540125.0                  NaN        1.214332  84000048.0  USA   \n",
       "\n",
       "      Testing_Rate  Hospitalization_Rate  Total_Test_Results  \\\n",
       "919    7357.793336                   NaN                 NaN   \n",
       "977    7145.183828                   NaN                 NaN   \n",
       "1499  12448.230147                   NaN                 NaN   \n",
       "3183   8596.924508                   NaN                 NaN   \n",
       "3241   8760.295988                   NaN                 NaN   \n",
       "\n",
       "      Case_Fatality_Ratio  \n",
       "919                   NaN  \n",
       "977                   NaN  \n",
       "1499                  NaN  \n",
       "3183                  NaN  \n",
       "3241                  NaN  "
      ]
     },
     "execution_count": 67,
     "metadata": {},
     "output_type": "execute_result"
    }
   ],
   "source": [
    "# importing combined CSV with all covid-19 data\n",
    "df_all = pd.read_csv('../datasets/csse_covid_19_daily_reports_us/combined_csv.csv',\n",
    "                 na_values=[''], keep_default_na=False)\n",
    "\n",
    "# creating data frame that contains only texas data\n",
    "df_all_texas = df_all.loc[df_all['Province_State']=='Texas']\n",
    "\n",
    "# creating data frame that contains only texas data in 2020\n",
    "df_all_texas_2020 = df_all_texas[df_all_texas.Last_Update.str.contains(\"2020\")]\n",
    "\n",
    "# creating individual data frames for months july-december in 2020 \n",
    "df1 = df_all_texas_2020[df_all_texas_2020.Last_Update.str.startswith('2020-07')]\n",
    "df2 = df_all_texas_2020[df_all_texas_2020.Last_Update.str.startswith('2020-08')]\n",
    "df3 = df_all_texas_2020[df_all_texas_2020.Last_Update.str.startswith('2020-09')]\n",
    "df4 = df_all_texas_2020[df_all_texas_2020.Last_Update.str.startswith('2020-10')]\n",
    "df5 = df_all_texas_2020[df_all_texas_2020.Last_Update.str.startswith('2020-11')]\n",
    "df6 = df_all_texas_2020[df_all_texas_2020.Last_Update.str.startswith('2020-12')]\n",
    "\n",
    "frames = [df1, df2, df3, df4, df5, df6]\n",
    "\n",
    "# concatenating texas data frames july-december 2020 into one data frame\n",
    "df_texas = pd.concat(frames)\n",
    "\n",
    "df_texas.head()"
   ]
  },
  {
   "cell_type": "code",
   "execution_count": 68,
   "metadata": {},
   "outputs": [],
   "source": [
    "# changing date to datetime\n",
    "df_texas['date'] = pd.to_datetime(df_texas['Last_Update'])"
   ]
  },
  {
   "cell_type": "code",
   "execution_count": 69,
   "metadata": {},
   "outputs": [],
   "source": [
    "# setting the date as the ind\n",
    "df_texas.set_index('date', inplace=True)\n",
    "df_texas.sort_index(inplace=True)"
   ]
  },
  {
   "cell_type": "code",
   "execution_count": 70,
   "metadata": {},
   "outputs": [
    {
     "data": {
      "image/png": "[encoded data removed]",
      "text/plain": [
       "<Figure size 864x576 with 1 Axes>"
      ]
     },
     "metadata": {
      "needs_background": "light"
     },
     "output_type": "display_data"
    }
   ],
   "source": [
    "# plotting deaths and deaths with a rolling mean of 10\n",
    "plt.figure(figsize=(12,8))\n",
    "plt.plot(df_texas['Deaths'], label = 'COVID-19 Deaths in Texas')\n",
    "plt.plot(df_texas['Deaths'].rolling(10).mean(), label = 'COVID-19 Deaths with a 10-day rolling average')\n",
    "plt.legend()\n",
    "plt.ylabel('Deaths')\n",
    "plt.xlabel('Month')\n",
    "plt.title('Deaths at a 10-day Moving Average');"
   ]
  },
  {
   "cell_type": "markdown",
   "metadata": {},
   "source": [
    "Here we have visualized deaths, as well as deaths with a rolling mean of 10 days.\n",
    "The rolling mean helps us visualize deaths without the deaths being as susceptible to spikes in the data or lags in data reporting.\n",
    "Visualizing death as a function of time is the first step in time series modeling. From here, we want to try out several different time series forecasting techniques, but time did not permit us to do this."
   ]
  }
 ],
 "metadata": {
  "kernelspec": {
   "display_name": "Python 3",
   "language": "python",
   "name": "python3"
  },
  "language_info": {
   "codemirror_mode": {
    "name": "ipython",
    "version": 3
   },
   "file_extension": ".py",
   "mimetype": "text/x-python",
   "name": "python",
   "nbconvert_exporter": "python",
   "pygments_lexer": "ipython3",
   "version": "3.8.5"
  }
 },
 "nbformat": 4,
 "nbformat_minor": 4
}
